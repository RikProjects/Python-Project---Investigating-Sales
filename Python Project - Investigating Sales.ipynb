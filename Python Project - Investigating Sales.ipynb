{
 "cells": [
  {
   "cell_type": "code",
   "execution_count": 75,
   "id": "7fc70d7d-97b5-48cf-a0ed-33223270d81b",
   "metadata": {},
   "outputs": [],
   "source": [
    "import pandas as pd\n",
    "import numpy as np\n",
    "import matplotlib.pyplot as plt"
   ]
  },
  {
   "cell_type": "code",
   "execution_count": 76,
   "id": "16e4863a-e450-43b2-8b4f-6441dc8a45e9",
   "metadata": {},
   "outputs": [],
   "source": [
    "# Import the sales data\n",
    "sales = pd.read_csv(r\"C:\\Users\\AR\\sales.csv\")"
   ]
  },
  {
   "cell_type": "code",
   "execution_count": 77,
   "id": "a48a062c-cfa4-4fbd-8b15-3dcd96f23111",
   "metadata": {},
   "outputs": [
    {
     "name": "stdout",
     "output_type": "stream",
     "text": [
      "   Product_ID   Sale_Date Sales_Rep Region  Sales_Amount  Quantity_Sold  \\\n",
      "0        1052  03/02/2023       Bob  North       5053.97             18   \n",
      "1        1093  21/04/2023       Bob   West       4384.02             17   \n",
      "2        1015  21/09/2023     David  South       4631.23             30   \n",
      "3        1072  24/08/2023       Bob  South       2167.94             39   \n",
      "4        1061  24/03/2023   Charlie   East       3750.20             13   \n",
      "\n",
      "  Product_Category  Unit_Cost  Unit_Price Customer_Type  Discount  \\\n",
      "0        Furniture     152.75      267.22     Returning      0.09   \n",
      "1        Furniture    3816.39     4209.44     Returning      0.11   \n",
      "2             Food     261.56      371.40     Returning      0.20   \n",
      "3         Clothing    4330.03     4467.75           New      0.02   \n",
      "4      Electronics     637.37      692.71           New      0.08   \n",
      "\n",
      "  Payment_Method Sales_Channel Region_and_Sales_Rep  \n",
      "0           Cash        Online            North-Bob  \n",
      "1           Cash        Retail             West-Bob  \n",
      "2  Bank Transfer        Retail          South-David  \n",
      "3    Credit Card        Retail            South-Bob  \n",
      "4    Credit Card        Online         East-Charlie  \n"
     ]
    }
   ],
   "source": [
    "# Display the first few rows to understand the data\n",
    "print(sales.head())"
   ]
  },
  {
   "cell_type": "code",
   "execution_count": 78,
   "id": "d1ff694e-92d9-4ba7-9751-81ad0e3b9cf6",
   "metadata": {},
   "outputs": [
    {
     "name": "stdout",
     "output_type": "stream",
     "text": [
      "    Sales_Rep  Sales_Amount  Quantity_Sold\n",
      "0         Bob       5053.97             18\n",
      "1         Bob       4384.02             17\n",
      "2       David       4631.23             30\n",
      "3         Bob       2167.94             39\n",
      "4     Charlie       3750.20             13\n",
      "..        ...           ...            ...\n",
      "992   Charlie       4733.88              4\n",
      "993       Bob       4716.36             37\n",
      "994     David       7629.70             17\n",
      "995     David       1629.47             39\n",
      "996     Alice       4923.93             48\n",
      "\n",
      "[997 rows x 3 columns]\n"
     ]
    }
   ],
   "source": [
    "# Selecting specific columns within a DataFrame\n",
    "print(sales[['Sales_Rep', 'Sales_Amount', 'Quantity_Sold']])"
   ]
  },
  {
   "cell_type": "code",
   "execution_count": 79,
   "id": "6db6e976-ce9c-4483-9c7e-960ec4f32077",
   "metadata": {},
   "outputs": [
    {
     "name": "stdout",
     "output_type": "stream",
     "text": [
      "Product_ID                int64\n",
      "Sale_Date                object\n",
      "Sales_Rep                object\n",
      "Region                   object\n",
      "Sales_Amount            float64\n",
      "Quantity_Sold             int64\n",
      "Product_Category         object\n",
      "Unit_Cost               float64\n",
      "Unit_Price              float64\n",
      "Customer_Type            object\n",
      "Discount                float64\n",
      "Payment_Method           object\n",
      "Sales_Channel            object\n",
      "Region_and_Sales_Rep     object\n",
      "dtype: object\n"
     ]
    }
   ],
   "source": [
    "# Show the data types of each column\n",
    "print(sales.dtypes)"
   ]
  },
  {
   "cell_type": "code",
   "execution_count": 80,
   "id": "e082ffa8-ec74-4bd2-9a84-40061edcb59c",
   "metadata": {},
   "outputs": [
    {
     "name": "stdout",
     "output_type": "stream",
     "text": [
      "        Product_ID  Sales_Amount  Quantity_Sold    Unit_Cost   Unit_Price  \\\n",
      "count   997.000000    997.000000     997.000000   997.000000   997.000000   \n",
      "mean   1050.084253   5014.982166      25.354062  2481.108275  2734.094303   \n",
      "std      29.548390   2845.612715      14.163135  1415.685048  1417.360824   \n",
      "min    1001.000000    100.120000       1.000000    60.280000   167.120000   \n",
      "25%    1024.000000   2550.840000      13.000000  1247.100000  1510.430000   \n",
      "50%    1051.000000   5012.960000      25.000000  2471.670000  2707.110000   \n",
      "75%    1075.000000   7499.700000      38.000000  3703.930000  3964.630000   \n",
      "max    1100.000000   9989.040000      49.000000  4995.300000  5442.150000   \n",
      "\n",
      "         Discount  \n",
      "count  997.000000  \n",
      "mean     0.152257  \n",
      "std      0.087056  \n",
      "min      0.000000  \n",
      "25%      0.080000  \n",
      "50%      0.150000  \n",
      "75%      0.230000  \n",
      "max      0.300000  \n"
     ]
    }
   ],
   "source": [
    "# Display summary statistics\n",
    "print(sales.describe())"
   ]
  },
  {
   "cell_type": "code",
   "execution_count": 81,
   "id": "2fbd13b7-1f0b-478c-a315-b13d8f7ce4f4",
   "metadata": {},
   "outputs": [],
   "source": [
    "# Check if there are any duplicate rows and remove them\n",
    "sales.drop_duplicates(inplace=True)"
   ]
  },
  {
   "cell_type": "code",
   "execution_count": 82,
   "id": "852420d7-b0ed-4cf7-9fde-ea4cc0ab4df2",
   "metadata": {},
   "outputs": [
    {
     "name": "stdout",
     "output_type": "stream",
     "text": [
      "     Product_ID   Sale_Date Sales_Rep Region  Sales_Amount  Quantity_Sold  \\\n",
      "0          1052  03/02/2023       Bob  North       5053.97             18   \n",
      "7          1087  06/01/2023       Eve  South       7698.92             46   \n",
      "9          1075  09/10/2023   Charlie   West       8239.58             18   \n",
      "10         1088  16/11/2023       Eve  North       8518.45             13   \n",
      "12         1024  11/11/2023       Eve   West       6607.80             21   \n",
      "..          ...         ...       ...    ...           ...            ...   \n",
      "979        1074  16/12/2023       Bob  North       6310.56             19   \n",
      "980        1039  01/08/2023       Eve   West       7527.63             36   \n",
      "986        1025  30/12/2023     David   West       9215.32             28   \n",
      "991        1068  06/04/2023     Alice  South       9093.50             31   \n",
      "994        1018  27/04/2023     David  South       7629.70             17   \n",
      "\n",
      "    Product_Category  Unit_Cost  Unit_Price Customer_Type  Discount  \\\n",
      "0          Furniture     152.75      267.22     Returning      0.09   \n",
      "7          Furniture    3702.51     3964.65           New      0.12   \n",
      "9           Clothing    2228.35     2682.34           New      0.13   \n",
      "10         Furniture    2440.11     2517.60           New      0.23   \n",
      "12              Food     622.01      641.09     Returning      0.00   \n",
      "..               ...        ...         ...           ...       ...   \n",
      "979        Furniture     278.67      423.13           New      0.24   \n",
      "980         Clothing    2919.00     3125.01           New      0.24   \n",
      "986      Electronics    2097.84     2270.99           New      0.13   \n",
      "991         Clothing    3169.37     3304.15     Returning      0.25   \n",
      "994         Clothing     355.72      438.27     Returning      0.06   \n",
      "\n",
      "    Payment_Method Sales_Channel Region_and_Sales_Rep  \n",
      "0             Cash        Online            North-Bob  \n",
      "7    Bank Transfer        Online            South-Eve  \n",
      "9    Bank Transfer        Online         West-Charlie  \n",
      "10   Bank Transfer        Retail            North-Eve  \n",
      "12   Bank Transfer        Retail             West-Eve  \n",
      "..             ...           ...                  ...  \n",
      "979    Credit Card        Online            North-Bob  \n",
      "980           Cash        Online             West-Eve  \n",
      "986    Credit Card        Retail           West-David  \n",
      "991    Credit Card        Retail          South-Alice  \n",
      "994  Bank Transfer        Online          South-David  \n",
      "\n",
      "[499 rows x 14 columns]\n"
     ]
    }
   ],
   "source": [
    "# Filter out sales greater than a certain threshold\n",
    "high_sales = sales[sales['Sales_Amount'] > 5000]\n",
    "print(high_sales)"
   ]
  },
  {
   "cell_type": "code",
   "execution_count": 83,
   "id": "e8e47960-d779-4181-a89b-d1d2ef252b1f",
   "metadata": {},
   "outputs": [
    {
     "name": "stdout",
     "output_type": "stream",
     "text": [
      "['Bob' 'David' 'Charlie' 'Eve' 'Alice']\n"
     ]
    }
   ],
   "source": [
    "# Unique products that is sold\n",
    "print(sales[\"Sales_Rep\"].unique())"
   ]
  },
  {
   "cell_type": "code",
   "execution_count": 84,
   "id": "f9cccfb3-d6fc-4250-9953-7ec0030f2a0a",
   "metadata": {},
   "outputs": [
    {
     "name": "stdout",
     "output_type": "stream",
     "text": [
      "Products with sales above $5000: ['Furniture' 'Clothing' 'Food' 'Electronics']\n"
     ]
    }
   ],
   "source": [
    "# Filtering the data using products with sales above $7500\n",
    "Best_selling_products = sales[sales['Sales_Amount'] > 7500]['Product_Category'].unique()\n",
    "print(\"Products with sales above $5000:\", Best_selling_products)"
   ]
  },
  {
   "cell_type": "code",
   "execution_count": 85,
   "id": "bb01e08c-252f-487f-a2e6-d353ff499af1",
   "metadata": {},
   "outputs": [
    {
     "name": "stdout",
     "output_type": "stream",
     "text": [
      "  Sales_Rep  Sales_Amount  Rank\n",
      "0     David    1133359.79     1\n",
      "1       Bob    1078619.91     2\n",
      "2       Eve     970183.99     3\n",
      "3     Alice     956962.05     4\n",
      "4   Charlie     860811.48     5\n"
     ]
    }
   ],
   "source": [
    "# Group by Sales Reps and Total Sales Amount\n",
    "best_reps = sales.groupby(\"Sales_Rep\")[\"Sales_Amount\"].sum().reset_index()\n",
    "\n",
    "# Sort the reps by total Sales_Amount in descending order\n",
    "best_reps = best_reps.sort_values(\"Sales_Amount\", ascending=False)\n",
    "\n",
    "#Rank them in order\n",
    "best_reps[\"Rank\"] = best_reps[\"Sales_Amount\"].rank(method='dense', ascending=False).astype(int)\n",
    "\n",
    "best_reps = best_reps.reset_index(drop=True)\n",
    "\n",
    "print(best_reps)"
   ]
  },
  {
   "cell_type": "code",
   "execution_count": 86,
   "id": "6cc7de4b-5ea0-4ba6-827c-4b98982896b0",
   "metadata": {},
   "outputs": [
    {
     "name": "stdout",
     "output_type": "stream",
     "text": [
      "Product_Category\n",
      "Clothing       1311103.64\n",
      "Furniture      1260517.69\n",
      "Electronics    1234919.92\n",
      "Food           1193395.97\n",
      "Name: Sales_Amount, dtype: float64\n"
     ]
    }
   ],
   "source": [
    "# Create a new DataFrame for top-selling products\n",
    "top_selling = sales.groupby('Product_Category')['Sales_Amount'].sum().sort_values(ascending=False)\n",
    "print(top_selling)"
   ]
  },
  {
   "cell_type": "code",
   "execution_count": 87,
   "id": "621ea174-1558-426c-b222-37cc69a4ead7",
   "metadata": {},
   "outputs": [],
   "source": [
    "sales.reset_index(inplace=True)"
   ]
  },
  {
   "cell_type": "code",
   "execution_count": 92,
   "id": "f017faba-6ef2-4e4d-9018-05f37a7f3268",
   "metadata": {},
   "outputs": [
    {
     "data": {
      "image/png": "[encoded data removed]",
      "text/plain": [
       "<Figure size 640x480 with 1 Axes>"
      ]
     },
     "metadata": {},
     "output_type": "display_data"
    }
   ],
   "source": [
    "# Plotting Sales by Month\n",
    "plt.plot(monthly_sales[\"Month\"].astype(str), monthly_sales[\"Sales_Amount\"], marker='o')\n",
    "plt.title(\"Monthly Sales Trend\")\n",
    "plt.xlabel(\"Month\")\n",
    "plt.ylabel(\"Total Sales Amount\")\n",
    "plt.xticks(rotation=45)\n",
    "plt.show()"
   ]
  },
  {
   "cell_type": "code",
   "execution_count": 93,
   "id": "a1d024ee-5487-46cb-a6d2-8321c39a85b6",
   "metadata": {},
   "outputs": [
    {
     "data": {
      "image/png": "[encoded data removed]",
      "text/plain": [
       "<Figure size 640x480 with 1 Axes>"
      ]
     },
     "metadata": {},
     "output_type": "display_data"
    }
   ],
   "source": [
    "rep_sales = sales.groupby(\"Sales_Rep\")[\"Sales_Amount\"].sum().sort_values()\n",
    "\n",
    "plt.bar(rep_sales.index, rep_sales.values)\n",
    "plt.title(\"Total Sales by Sales Rep\")\n",
    "plt.xlabel(\"Sales Rep\")\n",
    "plt.ylabel(\"Sales Amount\")\n",
    "plt.xticks(rotation=45)\n",
    "plt.tight_layout()\n",
    "plt.show()"
   ]
  },
  {
   "cell_type": "code",
   "execution_count": 102,
   "id": "1766fdd8-68e3-45e2-9443-b3caba6c31af",
   "metadata": {},
   "outputs": [
    {
     "name": "stdout",
     "output_type": "stream",
     "text": [
      "Region          East      North      South       West\n",
      "Sales_Rep                                            \n",
      "Alice      260789.47  249647.22  239414.54  207110.82\n",
      "Bob        309876.11  233464.81  248829.71  286449.28\n",
      "Charlie    165172.94  299789.01  156140.68  239708.85\n",
      "David      276235.94  282539.27  311416.99  263167.59\n",
      "Eve        239340.90  304172.20  196078.22  230592.67\n"
     ]
    }
   ],
   "source": [
    "# Pivot Table for Total Sales Amount by Sales Rep and Region\n",
    "regional_sales_summary = sales.pivot_table(values=\"Sales_Amount\", index=\"Sales_Rep\", columns=\"Region\", aggfunc=\"sum\")\n",
    "print(regional_sales_summary)"
   ]
  }
 ],
 "metadata": {
  "kernelspec": {
   "display_name": "Python [conda env:base] *",
   "language": "python",
   "name": "conda-base-py"
  },
  "language_info": {
   "codemirror_mode": {
    "name": "ipython",
    "version": 3
   },
   "file_extension": ".py",
   "mimetype": "text/x-python",
   "name": "python",
   "nbconvert_exporter": "python",
   "pygments_lexer": "ipython3",
   "version": "3.12.7"
  }
 },
 "nbformat": 4,
 "nbformat_minor": 5
}
